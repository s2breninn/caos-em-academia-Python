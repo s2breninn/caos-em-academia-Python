{
 "cells": [
  {
   "cell_type": "markdown",
   "id": "d50b33a6",
   "metadata": {},
   "source": [
    "### Cálculo de impacto de um desorganizador\n",
    "\n",
    "_\"As principais transformações da sociedade são causadas por minorias barulhentas\"_\n",
    "\n",
    "----\n",
    "\n",
    "Programa em python que simula dois tipos de pessoas em uma academia, onde:\n",
    "- Um tipo é organizada;\n",
    "- Outro tipo desorganizada\n",
    "\n",
    "Com isso, o resultado final do programa é a probabilidade de certa quantidade de pessoas desorganizadas na academia poderia causar um \"caos\".\n",
    "\n",
    "Ex.: Entre 20 pessoas sendo elas 2 bagunceiras qual a probabilidade que no final do dia a academia vai está desarumada\n",
    "\n",
    "#### Tipo 1:\n",
    "- A pessoa organizada guardará o haltere no porta haltere onde ela pegou, ou seja, no lugar certo onde o número do haltere e o porta se coincidem. Mas se caso o lugar em que o equipamento deveria ficar estiver certo ela irá guardar em qualquer outro local que esteja livre;\n",
    "    \n",
    "#### Tipo 2:\n",
    "- O individuo bagunceiro pega o peso, mas ele vai colocar de forma aleatoria em qualquer lugar.\n",
    "\n",
    "----\n",
    "\n",
    "#### Estrutura de dados:\n",
    "        porta_halteres: {\n",
    "            10: 10,\n",
    "            12: 12,\n",
    "            14: 14,\n",
    "            16: 16,\n",
    "            ...:...,\n",
    "        }"
   ]
  },
  {
   "cell_type": "code",
   "execution_count": 48,
   "id": "82458e46",
   "metadata": {},
   "outputs": [],
   "source": [
    "import random"
   ]
  },
  {
   "cell_type": "code",
   "execution_count": 53,
   "id": "b73106ca",
   "metadata": {},
   "outputs": [],
   "source": [
    "class Academia:\n",
    "    def __init__(self):\n",
    "        self.halteres = [i for i in range(10, 36) if i % 2 == 0]\n",
    "        self.porta_halteres = {}\n",
    "        self.reiniciar_o_dia()\n",
    "\n",
    "    def reiniciar_o_dia(self):\n",
    "        self.porta_halteres = {i: i for i in self.halteres}\n",
    "        # out: {10: 10, 12: 12, 14: 14, 16: 16, 18: 18, 20: 20, 22: 22, 24: 24, 26: 26, 28: 28, 30: 30, 32: 32, 34: 34}\n",
    "\n",
    "    def listar_halteres(self):\n",
    "        return [i for i in self.porta_halteres.values() if i != 0]\n",
    "\n",
    "    def listar_espacos(self):\n",
    "        return [i for i in self.porta_halteres.values() if i == 0]\n",
    "\n",
    "    def pegar_haltere(self, peso):\n",
    "        halt_pos = list(self.porta_halteres.values()).index(peso)\n",
    "        key_halt = list(self.porta_halteres.keys())[halt_pos]\n",
    "        self.porta_halteres[key_halt] = 0\n",
    "        return peso\n",
    "\n",
    "    def devolver_halter(self, pos, peso):\n",
    "        self.porta_halteres[pos] = peso\n",
    "\n",
    "    def calcular_caos(self):\n",
    "        num_caos = [i for i, j in self.porta_halteres.items() if i != j]  # Se eles estiverem foram do lugar\n",
    "        return len(num_caos) / len(self.porta_halteres)"
   ]
  },
  {
   "cell_type": "code",
   "execution_count": 50,
   "id": "7d1c9d43",
   "metadata": {},
   "outputs": [],
   "source": [
    "class Usuario:\n",
    "    def __init__(self, tipo, academia):\n",
    "        self.tipo = tipo #1 - Normal | 2 - Bagunceiro\n",
    "        self.academia = academia\n",
    "        self.peso = 0\n",
    "\n",
    "    def iniciar_treino(self):\n",
    "        listar_pesos = self.academia.listar_halteres()\n",
    "        self.peso = random.choice(listar_pesos)\n",
    "        self.academia.pegar_haltere(self.peso)\n",
    "\n",
    "    def finalizar_treino(self):\n",
    "        espacos = self.academia.listar_espacos()\n",
    "\n",
    "        if self.tipo == 1:\n",
    "            if self.peso in espacos:\n",
    "                self.academia.devolver_halter(self.peso, self.peso)\n",
    "            else:\n",
    "                pos = random.choice(espacos)\n",
    "                self.academia.devolver_halter(pos, self.peso)\n",
    "\n",
    "        if self.tipo == 2:\n",
    "            pos = random.choice(espacos)\n",
    "            self.academia.devolver_halter(pos, self.peso)\n",
    "        self.peso = 0"
   ]
  },
  {
   "cell_type": "code",
   "execution_count": 52,
   "id": "96693d2c",
   "metadata": {},
   "outputs": [
    {
     "name": "stdout",
     "output_type": "stream",
     "text": [
      "{10: 10, 12: 12, 14: 14, 16: 16, 18: 18, 20: 20, 22: 22, 24: 24, 26: 26, 28: 28, 30: 30, 32: 32, 34: 34}\n",
      "{10: 10, 12: 12, 14: 14, 16: 16, 18: 18, 20: 20, 22: 22, 24: 24, 26: 26, 28: 28, 30: 30, 32: 32, 34: 34}\n"
     ]
    },
    {
     "ename": "IndexError",
     "evalue": "Cannot choose from an empty sequence",
     "output_type": "error",
     "traceback": [
      "\u001b[0;31m---------------------------------------------------------------------------\u001b[0m",
      "\u001b[0;31mIndexError\u001b[0m                                Traceback (most recent call last)",
      "Cell \u001b[0;32mIn[52], line 14\u001b[0m\n\u001b[1;32m     12\u001b[0m random\u001b[38;5;241m.\u001b[39mshuffle(usuarios)\n\u001b[1;32m     13\u001b[0m \u001b[38;5;28;01mfor\u001b[39;00m user \u001b[38;5;129;01min\u001b[39;00m usuarios:\n\u001b[0;32m---> 14\u001b[0m     user\u001b[38;5;241m.\u001b[39miniciar_treino()\n\u001b[1;32m     15\u001b[0m \u001b[38;5;28;01mfor\u001b[39;00m user \u001b[38;5;129;01min\u001b[39;00m usuarios:\n\u001b[1;32m     16\u001b[0m     user\u001b[38;5;241m.\u001b[39mfinalizar_treino()\n",
      "Cell \u001b[0;32mIn[50], line 9\u001b[0m, in \u001b[0;36mUsuario.iniciar_treino\u001b[0;34m(self)\u001b[0m\n\u001b[1;32m      7\u001b[0m \u001b[38;5;28;01mdef\u001b[39;00m \u001b[38;5;21miniciar_treino\u001b[39m(\u001b[38;5;28mself\u001b[39m):\n\u001b[1;32m      8\u001b[0m     listar_pesos \u001b[38;5;241m=\u001b[39m \u001b[38;5;28mself\u001b[39m\u001b[38;5;241m.\u001b[39macademia\u001b[38;5;241m.\u001b[39mlistar_halteres()\n\u001b[0;32m----> 9\u001b[0m     \u001b[38;5;28mself\u001b[39m\u001b[38;5;241m.\u001b[39mpeso \u001b[38;5;241m=\u001b[39m random\u001b[38;5;241m.\u001b[39mchoice(listar_pesos)\n\u001b[1;32m     10\u001b[0m     \u001b[38;5;28mself\u001b[39m\u001b[38;5;241m.\u001b[39macademia\u001b[38;5;241m.\u001b[39mpegar_haltere(\u001b[38;5;28mself\u001b[39m\u001b[38;5;241m.\u001b[39mpeso)\n",
      "File \u001b[0;32m~/anaconda3/lib/python3.11/random.py:373\u001b[0m, in \u001b[0;36mRandom.choice\u001b[0;34m(self, seq)\u001b[0m\n\u001b[1;32m    370\u001b[0m \u001b[38;5;66;03m# As an accommodation for NumPy, we don't use \"if not seq\"\u001b[39;00m\n\u001b[1;32m    371\u001b[0m \u001b[38;5;66;03m# because bool(numpy.array()) raises a ValueError.\u001b[39;00m\n\u001b[1;32m    372\u001b[0m \u001b[38;5;28;01mif\u001b[39;00m \u001b[38;5;129;01mnot\u001b[39;00m \u001b[38;5;28mlen\u001b[39m(seq):\n\u001b[0;32m--> 373\u001b[0m     \u001b[38;5;28;01mraise\u001b[39;00m \u001b[38;5;167;01mIndexError\u001b[39;00m(\u001b[38;5;124m'\u001b[39m\u001b[38;5;124mCannot choose from an empty sequence\u001b[39m\u001b[38;5;124m'\u001b[39m)\n\u001b[1;32m    374\u001b[0m \u001b[38;5;28;01mreturn\u001b[39;00m seq[\u001b[38;5;28mself\u001b[39m\u001b[38;5;241m.\u001b[39m_randbelow(\u001b[38;5;28mlen\u001b[39m(seq))]\n",
      "\u001b[0;31mIndexError\u001b[0m: Cannot choose from an empty sequence"
     ]
    }
   ],
   "source": [
    "academia = Academia()\n",
    "\n",
    "usuarios = [Usuario(1, academia) for i in range(10)]\n",
    "usuarios += [Usuario(2, academia) for i in range(2)]\n",
    "random.shuffle(usuarios)\n",
    "\n",
    "list_caos = []\n",
    "\n",
    "for k in range(50):\n",
    "    academia.reiniciar_o_dia()\n",
    "    for i in range(10):\n",
    "        random.shuffle(usuarios)\n",
    "        for user in usuarios:\n",
    "            user.iniciar_treino()\n",
    "        for user in usuarios:\n",
    "            user.finalizar_treino()\n",
    "    list_caos += [academia.calcular_caos()]\n",
    "\n",
    "sns.displot(list_caos)"
   ]
  }
 ],
 "metadata": {
  "kernelspec": {
   "display_name": "Python 3 (ipykernel)",
   "language": "python",
   "name": "python3"
  },
  "language_info": {
   "codemirror_mode": {
    "name": "ipython",
    "version": 3
   },
   "file_extension": ".py",
   "mimetype": "text/x-python",
   "name": "python",
   "nbconvert_exporter": "python",
   "pygments_lexer": "ipython3",
   "version": "3.11.5"
  }
 },
 "nbformat": 4,
 "nbformat_minor": 5
}
